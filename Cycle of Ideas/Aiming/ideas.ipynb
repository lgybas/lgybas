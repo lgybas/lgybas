{
 "cells": [
  {
   "cell_type": "code",
   "execution_count": null,
   "metadata": {},
   "outputs": [],
   "source": []
  }
 ],
 "metadata": {
  "kernelspec": {
   "display_name": "Python 3.8.18 ('base')",
   "language": "python",
   "name": "python3"
  },
  "language_info": {
   "name": "python",
   "version": "3.8.18"
  },
  "orig_nbformat": 4,
  "vscode": {
   "interpreter": {
    "hash": "b8f2f4ada2c80ea9ac5ce6703ded092576c26007afc915a8876876e3c9a694db"
   }
  }
 },
 "nbformat": 4,
 "nbformat_minor": 2
}
