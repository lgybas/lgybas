{
 "cells": [
  {
   "cell_type": "markdown",
   "metadata": {},
   "source": [
    "# Steh einfach auf\n",
    "\n",
    "Jonah am 12.12.2022 an mich um 7:05 Uhr als Antwort auf mein körperliches Gefühl des Nicht-mehr-Wollens.\n",
    "\n",
    "Später sah ich den abnehmenden Mond. Ich errinnerte mich daran, dass die nicht-beleuchtete Seite des Neumonds wächst (Void). \n",
    "Die nicht-beleuchtete Seite beim Wachsen wahrnehmen. Das tue ich. Void, das bedeutet für mich auch das Gefühl nicht mehr sein zu wollen. One day I will. And I`ll be very happy.\n",
    "\n",
    "- **Void and Light are mutually exclusive and collectively exhaustive.**\n",
    "\n",
    "Und bis dahin: Stehe ich einfach auf. Danke Jonah.\n"
   ]
  },
  {
   "cell_type": "code",
   "execution_count": 8,
   "metadata": {},
   "outputs": [
    {
     "name": "stdout",
     "output_type": "stream",
     "text": [
      "0\n",
      "1\n",
      "2\n",
      "3\n",
      "4\n",
      "5\n",
      "127\n"
     ]
    }
   ],
   "source": [
    "#Calendar? \n",
    "\n",
    "#Rhythm\n",
    "\n",
    "#Shape\n",
    "\n",
    "#Where am I where am I not? --> Gravity digital modelling?\n",
    "MY = 1\n",
    "\n",
    "for i in range(6):\n",
    "    MY = 2*MY+1\n",
    "    print(i)\n",
    "\n",
    "print(MY)"
   ]
  },
  {
   "cell_type": "markdown",
   "metadata": {},
   "source": []
  }
 ],
 "metadata": {
  "kernelspec": {
   "display_name": "Python 3.8.15 ('base')",
   "language": "python",
   "name": "python3"
  },
  "language_info": {
   "codemirror_mode": {
    "name": "ipython",
    "version": 3
   },
   "file_extension": ".py",
   "mimetype": "text/x-python",
   "name": "python",
   "nbconvert_exporter": "python",
   "pygments_lexer": "ipython3",
   "version": "3.8.15"
  },
  "orig_nbformat": 4,
  "vscode": {
   "interpreter": {
    "hash": "b8f2f4ada2c80ea9ac5ce6703ded092576c26007afc915a8876876e3c9a694db"
   }
  }
 },
 "nbformat": 4,
 "nbformat_minor": 2
}
