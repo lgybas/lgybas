{
 "cells": [
  {
   "cell_type": "markdown",
   "metadata": {},
   "source": [
    "# Steh einfach auf\n",
    "\n",
    "Jonah am 12.12.2022 an mich um 7:05 Uhr als Antwort auf mein körperliches Gefühl des Nicht-mehr-Wollens.\n",
    "\n",
    "Später sah ich den abnehmenden Mond. Ich errinnerte mich daran, dass die nicht-beleuchtete Seite des Neumonds wächst (Void). \n",
    "Die nicht-beleuchtete Seite beim Wachsen wahrnehmen. Das tue ich. Void, das bedeutet für mich auch das Gefühl nicht mehr sein zu wollen. One day I will. And I`ll be very happy.\n",
    "\n",
    "- **Void and Light are mutually exclusive and collectively exhaustive.**\n",
    "\n",
    "Und bis dahin: Stehe ich einfach auf. Danke Jonah.\n"
   ]
  },
  {
   "cell_type": "markdown",
   "metadata": {},
   "source": [
    "### Read data from a scanned document"
   ]
  },
  {
   "cell_type": "code",
   "execution_count": 3,
   "metadata": {},
   "outputs": [],
   "source": [
    "#from https://developer.ibm.com/tutorials/document-scanner/\n",
    "\n",
    "#potential Python libraries: wand, pytesseract, cv2, and PIL.\n",
    "# import cv2 # vorher => https://pypi.org/project/opencv-python/\n",
    "#from PIL import Image\n",
    "#import PIL.Image\n",
    "\n",
    "#from pytesseract import image_to_string\n",
    "#import pytesseract\n",
    "\n",
    "\n",
    "###resize the image\n",
    "#imS = cv2.resize(warped, (1350, 1150))\n",
    "#cv2.imshow(\"output\",imS)\n",
    "#cv2.imwrite('Output Image.PNG', imS)\n",
    "#cv2.waitKey(0)\n",
    "\n",
    "###extract text\n",
    "#pytesseract.pytesseract.tesseract_cmd = 'C:/Program Files (x86)/Tesseract-OCR/tesseract'\n",
    "#TESSDATA_PREFIX = 'C:/Program Files (x86)/Tesseract-OCR'\n",
    "#output = pytesseract.image_to_string(PIL.Image.open('Output Image.PNG').convert(\"RGB\"), lang='eng')\n",
    "#print output\n",
    "\n",
    "\n",
    "###classifying the document\n",
    "#extract the items that have been bought. \n",
    "#put them into a table that can be edited."
   ]
  },
  {
   "cell_type": "markdown",
   "metadata": {},
   "source": [
    "### Store data somewhere\n",
    "\n",
    "Using Python's built-in File object, it is possible to write string data to a \n",
    "* disk file and read from it. --> pd.DataFrame.to_csv() ? \n",
    "\n",
    "Python's standard library, provides modules to store and retrieve serialized data in various data structures such as \n",
    "* JSON and \n",
    "* XML. Python's DB-API provides a standard way of interacting with \n",
    "* relational databases."
   ]
  },
  {
   "cell_type": "code",
   "execution_count": null,
   "metadata": {},
   "outputs": [],
   "source": []
  },
  {
   "cell_type": "markdown",
   "metadata": {},
   "source": [
    "### other snipplets that came to my mind"
   ]
  },
  {
   "cell_type": "code",
   "execution_count": 8,
   "metadata": {},
   "outputs": [
    {
     "name": "stdout",
     "output_type": "stream",
     "text": [
      "0\n",
      "1\n",
      "2\n",
      "3\n",
      "4\n",
      "5\n",
      "127\n"
     ]
    }
   ],
   "source": [
    "#Calendar? \n",
    "\n",
    "#Rhythm\n",
    "\n",
    "#Shape\n",
    "\n",
    "#Where am I where am I not? --> Gravity digital modelling?\n",
    "MY = 1\n",
    "\n",
    "for i in range(6):\n",
    "    MY = 2*MY+1\n",
    "    print(i)\n",
    "\n",
    "print(MY)"
   ]
  },
  {
   "cell_type": "markdown",
   "metadata": {},
   "source": []
  }
 ],
 "metadata": {
  "kernelspec": {
   "display_name": "Python 3.8.15 ('base')",
   "language": "python",
   "name": "python3"
  },
  "language_info": {
   "codemirror_mode": {
    "name": "ipython",
    "version": 3
   },
   "file_extension": ".py",
   "mimetype": "text/x-python",
   "name": "python",
   "nbconvert_exporter": "python",
   "pygments_lexer": "ipython3",
   "version": "3.8.18"
  },
  "orig_nbformat": 4,
  "vscode": {
   "interpreter": {
    "hash": "b8f2f4ada2c80ea9ac5ce6703ded092576c26007afc915a8876876e3c9a694db"
   }
  }
 },
 "nbformat": 4,
 "nbformat_minor": 2
}
