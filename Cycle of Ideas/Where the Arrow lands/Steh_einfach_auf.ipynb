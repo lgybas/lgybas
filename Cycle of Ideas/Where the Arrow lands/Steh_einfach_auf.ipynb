{
 "cells": [
  {
   "cell_type": "markdown",
   "metadata": {},
   "source": [
    "# Steh einfach auf\n",
    "\n",
    "Jonah am 12.12.2022 an mich um 7:05 Uhr als Antwort auf mein körperliches Gefühl des Nicht-mehr-Wollens.\n",
    "\n",
    "Später sah ich den abnehmenden Mond. Ich errinnerte mich daran, dass die nicht-beleuchtete Seite des Neumonds wächst (Void). \n",
    "Die nicht-beleuchtete Seite beim Wachsen wahrnehmen. Das tue ich. Void, das bedeutet für mich auch das Gefühl nicht mehr sein zu wollen. One day I will. And I`ll be very happy.\n",
    "\n",
    "- **Void and Light are mutually exclusive and collectively exhaustive.**\n",
    "\n",
    "Und bis dahin: Stehe ich einfach auf. Danke Jonah.\n"
   ]
  },
  {
   "cell_type": "code",
   "execution_count": null,
   "metadata": {},
   "outputs": [],
   "source": [
    "#Calendar? \n",
    "\n",
    "#Rhythm\n",
    "\n",
    "#Shape\n",
    "\n",
    "#Where am I where am I not? --> Gravity digital modelling?"
   ]
  },
  {
   "cell_type": "markdown",
   "metadata": {},
   "source": []
  }
 ],
 "metadata": {
  "language_info": {
   "name": "python"
  },
  "orig_nbformat": 4
 },
 "nbformat": 4,
 "nbformat_minor": 2
}
