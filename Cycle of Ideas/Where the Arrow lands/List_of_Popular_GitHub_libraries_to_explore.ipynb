{
 "cells": [
  {
   "cell_type": "markdown",
   "metadata": {},
   "source": [
    "# Exploring potentially interesting libraries on GitHub"
   ]
  },
  {
   "cell_type": "markdown",
   "metadata": {},
   "source": [
    "I read a blogpost on Metabase where they analyzed the bus index for various popular git repositories. I asked myself what these different repositories do and if and how I would want to use them.\n",
    "\n",
    "Todos:\n",
    "* import the csv for machine learning libraries\n",
    "* make a graph ? similar to the one in the blog post, or copy it from the blog\n",
    "* also import the csv for all popular libraries and the correlation to the bus index."
   ]
  },
  {
   "cell_type": "markdown",
   "metadata": {},
   "source": []
  }
 ],
 "metadata": {
  "language_info": {
   "name": "python"
  },
  "orig_nbformat": 4
 },
 "nbformat": 4,
 "nbformat_minor": 2
}
